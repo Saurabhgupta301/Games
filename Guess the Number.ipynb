{
 "cells": [
  {
   "cell_type": "markdown",
   "id": "2980b9e6",
   "metadata": {},
   "source": [
    "# Guess the Number\n"
   ]
  },
  {
   "cell_type": "code",
   "execution_count": 2,
   "id": "69470286",
   "metadata": {},
   "outputs": [
    {
     "name": "stdout",
     "output_type": "stream",
     "text": [
      "Guess the number5\n",
      "Guess the number7\n",
      "Guess the number9\n",
      "Your guess is incorrect, the number is 8\n"
     ]
    }
   ],
   "source": [
    "import random \n",
    "number = random.randint(1,10)\n",
    "for i in range(0,3):\n",
    "    user = int(input('Guess the number'))\n",
    "    if user ==number:\n",
    "        print('Hurray!!')\n",
    "        print(f\"You guessed the number right it's {number}\")\n",
    "        break\n",
    "if user != number :\n",
    "    print(f\"Your guess is incorrect, the number is {number}\")"
   ]
  },
  {
   "cell_type": "markdown",
   "id": "84f7bb45",
   "metadata": {},
   "source": [
    "###### "
   ]
  }
 ],
 "metadata": {
  "kernelspec": {
   "display_name": "Python 3",
   "language": "python",
   "name": "python3"
  },
  "language_info": {
   "codemirror_mode": {
    "name": "ipython",
    "version": 3
   },
   "file_extension": ".py",
   "mimetype": "text/x-python",
   "name": "python",
   "nbconvert_exporter": "python",
   "pygments_lexer": "ipython3",
   "version": "3.8.8"
  }
 },
 "nbformat": 4,
 "nbformat_minor": 5
}
